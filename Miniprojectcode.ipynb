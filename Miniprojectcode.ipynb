{
  "nbformat": 4,
  "nbformat_minor": 0,
  "metadata": {
    "colab": {
      "name": "Untitled13.ipynb",
      "provenance": [],
      "collapsed_sections": [],
      "toc_visible": true
    },
    "kernelspec": {
      "name": "python3",
      "display_name": "Python 3"
    },
    "language_info": {
      "name": "python"
    }
  },
  "cells": [
    {
      "cell_type": "code",
      "execution_count": null,
      "metadata": {
        "id": "M6Woa4GvYh9z"
      },
      "outputs": [],
      "source": [
        "import numpy as np\n",
        "import pandas as pd\n"
      ]
    },
    {
      "cell_type": "code",
      "source": [
        ""
      ],
      "metadata": {
        "id": "ejDAzsNFKIhe"
      },
      "execution_count": null,
      "outputs": []
    },
    {
      "cell_type": "code",
      "source": [
        "path='/makeSenseOfCensus.csv'\n",
        "data= pd.read_csv('/makeSenseOfCensus.csv')"
      ],
      "metadata": {
        "id": "5nZ6JNM5ZOZW"
      },
      "execution_count": null,
      "outputs": []
    },
    {
      "cell_type": "code",
      "source": [
        ""
      ],
      "metadata": {
        "id": "afIkSvyRY0DY"
      },
      "execution_count": null,
      "outputs": []
    },
    {
      "cell_type": "code",
      "source": [
        "data.head()"
      ],
      "metadata": {
        "id": "5GHhkf3bZfXQ",
        "colab": {
          "base_uri": "https://localhost:8080/",
          "height": 267
        },
        "outputId": "f3b2f785-d881-456f-b23b-a5dc2963e715"
      },
      "execution_count": null,
      "outputs": [
        {
          "output_type": "execute_result",
          "data": {
            "text/plain": [
              "   age  education-num  race  sex  capital-gain  capital-loss  hours-per-week  \\\n",
              "0   39             13     4    1          2174             0              40   \n",
              "1   50             13     4    1             0             0              13   \n",
              "2   38              9     4    1             0             0              40   \n",
              "3   53              7     2    1             0             0              40   \n",
              "4   28             13     2    0             0             0              40   \n",
              "\n",
              "   income  \n",
              "0       0  \n",
              "1       0  \n",
              "2       0  \n",
              "3       0  \n",
              "4       0  "
            ],
            "text/html": [
              "\n",
              "  <div id=\"df-0d922fdf-3a11-4390-90e4-cefeeedd2102\">\n",
              "    <div class=\"colab-df-container\">\n",
              "      <div>\n",
              "<style scoped>\n",
              "    .dataframe tbody tr th:only-of-type {\n",
              "        vertical-align: middle;\n",
              "    }\n",
              "\n",
              "    .dataframe tbody tr th {\n",
              "        vertical-align: top;\n",
              "    }\n",
              "\n",
              "    .dataframe thead th {\n",
              "        text-align: right;\n",
              "    }\n",
              "</style>\n",
              "<table border=\"1\" class=\"dataframe\">\n",
              "  <thead>\n",
              "    <tr style=\"text-align: right;\">\n",
              "      <th></th>\n",
              "      <th>age</th>\n",
              "      <th>education-num</th>\n",
              "      <th>race</th>\n",
              "      <th>sex</th>\n",
              "      <th>capital-gain</th>\n",
              "      <th>capital-loss</th>\n",
              "      <th>hours-per-week</th>\n",
              "      <th>income</th>\n",
              "    </tr>\n",
              "  </thead>\n",
              "  <tbody>\n",
              "    <tr>\n",
              "      <th>0</th>\n",
              "      <td>39</td>\n",
              "      <td>13</td>\n",
              "      <td>4</td>\n",
              "      <td>1</td>\n",
              "      <td>2174</td>\n",
              "      <td>0</td>\n",
              "      <td>40</td>\n",
              "      <td>0</td>\n",
              "    </tr>\n",
              "    <tr>\n",
              "      <th>1</th>\n",
              "      <td>50</td>\n",
              "      <td>13</td>\n",
              "      <td>4</td>\n",
              "      <td>1</td>\n",
              "      <td>0</td>\n",
              "      <td>0</td>\n",
              "      <td>13</td>\n",
              "      <td>0</td>\n",
              "    </tr>\n",
              "    <tr>\n",
              "      <th>2</th>\n",
              "      <td>38</td>\n",
              "      <td>9</td>\n",
              "      <td>4</td>\n",
              "      <td>1</td>\n",
              "      <td>0</td>\n",
              "      <td>0</td>\n",
              "      <td>40</td>\n",
              "      <td>0</td>\n",
              "    </tr>\n",
              "    <tr>\n",
              "      <th>3</th>\n",
              "      <td>53</td>\n",
              "      <td>7</td>\n",
              "      <td>2</td>\n",
              "      <td>1</td>\n",
              "      <td>0</td>\n",
              "      <td>0</td>\n",
              "      <td>40</td>\n",
              "      <td>0</td>\n",
              "    </tr>\n",
              "    <tr>\n",
              "      <th>4</th>\n",
              "      <td>28</td>\n",
              "      <td>13</td>\n",
              "      <td>2</td>\n",
              "      <td>0</td>\n",
              "      <td>0</td>\n",
              "      <td>0</td>\n",
              "      <td>40</td>\n",
              "      <td>0</td>\n",
              "    </tr>\n",
              "  </tbody>\n",
              "</table>\n",
              "</div>\n",
              "      <button class=\"colab-df-convert\" onclick=\"convertToInteractive('df-0d922fdf-3a11-4390-90e4-cefeeedd2102')\"\n",
              "              title=\"Convert this dataframe to an interactive table.\"\n",
              "              style=\"display:none;\">\n",
              "        \n",
              "  <svg xmlns=\"http://www.w3.org/2000/svg\" height=\"24px\"viewBox=\"0 0 24 24\"\n",
              "       width=\"24px\">\n",
              "    <path d=\"M0 0h24v24H0V0z\" fill=\"none\"/>\n",
              "    <path d=\"M18.56 5.44l.94 2.06.94-2.06 2.06-.94-2.06-.94-.94-2.06-.94 2.06-2.06.94zm-11 1L8.5 8.5l.94-2.06 2.06-.94-2.06-.94L8.5 2.5l-.94 2.06-2.06.94zm10 10l.94 2.06.94-2.06 2.06-.94-2.06-.94-.94-2.06-.94 2.06-2.06.94z\"/><path d=\"M17.41 7.96l-1.37-1.37c-.4-.4-.92-.59-1.43-.59-.52 0-1.04.2-1.43.59L10.3 9.45l-7.72 7.72c-.78.78-.78 2.05 0 2.83L4 21.41c.39.39.9.59 1.41.59.51 0 1.02-.2 1.41-.59l7.78-7.78 2.81-2.81c.8-.78.8-2.07 0-2.86zM5.41 20L4 18.59l7.72-7.72 1.47 1.35L5.41 20z\"/>\n",
              "  </svg>\n",
              "      </button>\n",
              "      \n",
              "  <style>\n",
              "    .colab-df-container {\n",
              "      display:flex;\n",
              "      flex-wrap:wrap;\n",
              "      gap: 12px;\n",
              "    }\n",
              "\n",
              "    .colab-df-convert {\n",
              "      background-color: #E8F0FE;\n",
              "      border: none;\n",
              "      border-radius: 50%;\n",
              "      cursor: pointer;\n",
              "      display: none;\n",
              "      fill: #1967D2;\n",
              "      height: 32px;\n",
              "      padding: 0 0 0 0;\n",
              "      width: 32px;\n",
              "    }\n",
              "\n",
              "    .colab-df-convert:hover {\n",
              "      background-color: #E2EBFA;\n",
              "      box-shadow: 0px 1px 2px rgba(60, 64, 67, 0.3), 0px 1px 3px 1px rgba(60, 64, 67, 0.15);\n",
              "      fill: #174EA6;\n",
              "    }\n",
              "\n",
              "    [theme=dark] .colab-df-convert {\n",
              "      background-color: #3B4455;\n",
              "      fill: #D2E3FC;\n",
              "    }\n",
              "\n",
              "    [theme=dark] .colab-df-convert:hover {\n",
              "      background-color: #434B5C;\n",
              "      box-shadow: 0px 1px 3px 1px rgba(0, 0, 0, 0.15);\n",
              "      filter: drop-shadow(0px 1px 2px rgba(0, 0, 0, 0.3));\n",
              "      fill: #FFFFFF;\n",
              "    }\n",
              "  </style>\n",
              "\n",
              "      <script>\n",
              "        const buttonEl =\n",
              "          document.querySelector('#df-0d922fdf-3a11-4390-90e4-cefeeedd2102 button.colab-df-convert');\n",
              "        buttonEl.style.display =\n",
              "          google.colab.kernel.accessAllowed ? 'block' : 'none';\n",
              "\n",
              "        async function convertToInteractive(key) {\n",
              "          const element = document.querySelector('#df-0d922fdf-3a11-4390-90e4-cefeeedd2102');\n",
              "          const dataTable =\n",
              "            await google.colab.kernel.invokeFunction('convertToInteractive',\n",
              "                                                     [key], {});\n",
              "          if (!dataTable) return;\n",
              "\n",
              "          const docLinkHtml = 'Like what you see? Visit the ' +\n",
              "            '<a target=\"_blank\" href=https://colab.research.google.com/notebooks/data_table.ipynb>data table notebook</a>'\n",
              "            + ' to learn more about interactive tables.';\n",
              "          element.innerHTML = '';\n",
              "          dataTable['output_type'] = 'display_data';\n",
              "          await google.colab.output.renderOutput(dataTable, element);\n",
              "          const docLink = document.createElement('div');\n",
              "          docLink.innerHTML = docLinkHtml;\n",
              "          element.appendChild(docLink);\n",
              "        }\n",
              "      </script>\n",
              "    </div>\n",
              "  </div>\n",
              "  "
            ]
          },
          "metadata": {},
          "execution_count": 78
        }
      ]
    },
    {
      "cell_type": "code",
      "source": [
        "data=np.genfromtxt(path,delimiter=\",\",skip_header=1)\n",
        "print(\"\\n data: \\n\\n\",type(data))"
      ],
      "metadata": {
        "id": "SCnqh5w6hXMS",
        "colab": {
          "base_uri": "https://localhost:8080/"
        },
        "outputId": "0154da2b-410d-454f-9575-4023eb5a67fd"
      },
      "execution_count": null,
      "outputs": [
        {
          "output_type": "stream",
          "name": "stdout",
          "text": [
            "\n",
            " data: \n",
            "\n",
            " <class 'numpy.ndarray'>\n"
          ]
        }
      ]
    },
    {
      "cell_type": "code",
      "source": [
        "data"
      ],
      "metadata": {
        "id": "onYSDhlKh1NQ"
      },
      "execution_count": null,
      "outputs": []
    },
    {
      "cell_type": "code",
      "source": [
        "type(data)"
      ],
      "metadata": {
        "id": "LG92oHrTm8DO"
      },
      "execution_count": null,
      "outputs": []
    },
    {
      "cell_type": "code",
      "source": [
        "new_record=np.array([[50,9,4,1,0,0,40,0]])\n",
        "da = np.concatenate((data,new_record),axis=0)\n",
        "print(da)\n",
        "age=da[:,0]\n",
        "print (age)\n",
        "print (age.max())\n",
        "max_age=(age.max())\n",
        "min_age=(age.min())\n",
        "mean_age=(age.mean())\n",
        "std=(np.std(age))"
      ],
      "metadata": {
        "colab": {
          "base_uri": "https://localhost:8080/"
        },
        "id": "Oq6GVhx4iFwq",
        "outputId": "4ac2e286-b6f9-4c3e-dd22-d6ce35ac04a1"
      },
      "execution_count": null,
      "outputs": [
        {
          "output_type": "stream",
          "name": "stdout",
          "text": [
            "[[39 13  4 ...  0 40  0]\n",
            " [50 13  4 ...  0 13  0]\n",
            " [38  9  4 ...  0 40  0]\n",
            " ...\n",
            " [40 10  4 ...  0 40  0]\n",
            " [39 13  4 ...  0 50  1]\n",
            " [50  9  4 ...  0 40  0]]\n",
            "[39 50 38 ... 40 39 50]\n",
            "90\n"
          ]
        }
      ]
    },
    {
      "cell_type": "code",
      "source": [
        "print(\"Race\")\n",
        "race=da[:,2]\n",
        "print(race)\n",
        "print(race.size)\n",
        "\n",
        "r=(race==0)\n",
        "race_0=race[r]\n",
        "\n",
        "r1=(race==1)\n",
        "race_1=race[r1]\n",
        "\n",
        "r2=(race==2)\n",
        "race_2=race[r2]\n",
        "\n",
        "r3=(race==3)\n",
        "race_3=race[r3]\n",
        "\n",
        "r4=(race==4)\n",
        "race_4=race[r4]\n",
        "\n",
        "len_r0=(race_0.size)\n",
        "print(\"In race 0 there are:\",len_r0)\n",
        "\n",
        "len_r1=(race_1.size)\n",
        "print('In race 1 there are :',len_r1)\n",
        "\n",
        "len_r2=(race_2.size)\n",
        "print('In race 2 there are :',len_r2)\n",
        "\n",
        "len_r3=(race_3.size)\n",
        "print('In race 3 there are :',len_r3)\n",
        "\n",
        "len_r4=(race_4.size)\n",
        "print(\"in race 4 there are\",race_4.size)\n",
        "\n",
        "minority_race= print('The minority race is race 3:',len_r3)\n",
        "\n",
        "\n",
        "\n"
      ],
      "metadata": {
        "id": "ZyVK8AnPJVFq",
        "colab": {
          "base_uri": "https://localhost:8080/"
        },
        "outputId": "b12ad99a-77c7-4e2a-fc9b-5e1171a5cf4e"
      },
      "execution_count": 97,
      "outputs": [
        {
          "output_type": "stream",
          "name": "stdout",
          "text": [
            "Race\n",
            "[4 4 4 ... 4 4 4]\n",
            "1001\n",
            "In race 0 there are: 10\n",
            "In race 1 there are : 27\n",
            "In race 2 there are : 110\n",
            "In race 3 there are : 6\n",
            "in race 4 there are 848\n",
            "The minority race is race 3: 6\n"
          ]
        }
      ]
    },
    {
      "cell_type": "code",
      "source": [
        "Education=da[:,1]\n",
        "\n",
        "e1=(Education>10)\n",
        "edu_grtthan10=Education[e1]\n",
        "print(edu_grtthan10)\n",
        "\n",
        "\n",
        "e2=(Education<=10)\n",
        "edu_lessthan10=Education[e2]\n",
        "print(edu_lessthan10)\n"
      ],
      "metadata": {
        "colab": {
          "base_uri": "https://localhost:8080/"
        },
        "id": "O0r_e9sKnKfh",
        "outputId": "14c2dce6-bd8e-49a1-b7a7-2fc6ca962706"
      },
      "execution_count": 93,
      "outputs": [
        {
          "output_type": "stream",
          "name": "stdout",
          "text": [
            "[13 13 13 14 14 13 13 13 12 11 14 16 13 12 13 12 13 13 13 14 11 11 15 13\n",
            " 11 13 16 13 13 12 13 14 16 11 13 16 12 14 13 14 13 15 11 13 13 13 13 12\n",
            " 12 13 12 14 11 11 13 13 13 14 14 12 14 11 13 13 13 13 13 14 16 13 13 14\n",
            " 14 14 13 13 13 12 13 13 11 15 13 14 13 12 12 15 13 11 13 13 14 14 13 12\n",
            " 13 14 15 13 13 13 13 13 14 13 12 12 12 13 14 13 14 11 13 11 14 12 11 13\n",
            " 11 12 13 13 13 13 11 14 13 13 12 13 11 14 13 12 13 13 13 13 11 14 16 13\n",
            " 14 14 13 12 14 13 12 11 12 13 13 14 13 11 13 12 13 13 13 12 13 13 13 11\n",
            " 11 11 13 13 13 14 12 15 11 13 16 11 13 13 13 14 14 11 16 13 12 13 13 13\n",
            " 13 13 15 13 13 12 14 14 13 13 13 15 13 11 13 13 13 13 16 16 13 16 14 14\n",
            " 12 13 11 13 14 13 12 14 14 13 13 13 16 13 13 13 11 13 13 13 13 13 11 11\n",
            " 13 13 14 11 13 13 13 13 11 13 16 13 13 11 11 14 13 11 11 13 11 13 14 13\n",
            " 12 14 13 13 11 11 14 11 13 13 13 13 13 13 14 11 13 16 13 13 13 13 14 13\n",
            " 13 11 13 13 13 11 13 11 13 15 14 13 13 12 13 13 14 14 14 15 13 12 13 14\n",
            " 13 12 13 13 11 13 13 14 12 11 13 11 14 13 13]\n",
            "[ 9  7  5  9 10  4  9  9  7  9  5  7  9  9 10  9  9 10 10 10  7 10  9 10\n",
            "  5  9  9  9 10  9  9 10  3  9  9  4  9 10  9 10  9 10 10 10 10 10  9  6\n",
            "  7  4  9  9  9  9  9  9  5 10 10  9 10 10  9 10  9  9  6  7  9  9  9 10\n",
            "  9  5 10 10  9 10 10 10  9 10  9  9  9 10 10  9 10 10 10  9 10  9  7 10\n",
            " 10  9  9  9  9 10  9  2  9  9 10  7  9  9 10  9  9  9  9 10 10 10  4 10\n",
            "  9 10 10 10  3 10  9  9 10  9  7  9  9  7  9  9 10  9  4  6 10  2  9  9\n",
            "  1  9  6  9  9  7  9 10 10  9 10  9  9 10 10  9  9  9  9  6 10 10  9  9\n",
            "  9  4  9  7 10  7 10 10  9  9  9  5  9  9 10 10 10 10 10  9 10  4  9 10\n",
            "  9  9  9 10  9  9 10  9 10 10 10 10 10  3 10  9  9 10  9  7  9 10  9  9\n",
            " 10  6  9  3  9  9  9  9  9 10  7  9  7  9  7  9  5  6  9  9 10  9 10  7\n",
            "  9  9 10  9 10  9  9  3 10 10 10  9  9 10 10  9  9  9 10 10  9 10 10  4\n",
            "  9  9 10 10 10  9 10 10  8  2  7  7  9 10  7  9  6  9  9  9  9  7 10  9\n",
            " 10 10 10  9  9 10  5 10  9  9  9  7  9 10  9  9  9 10  9 10  9  2  9  9\n",
            " 10 10 10  9  9  5 10  6  9 10  9  8 10  2  9  9  9  9  9 10  3 10  9  9\n",
            "  9 10 10 10 10  9  9  3 10  9 10 10 10  9 10 10 10 10 10  9  7  9  9  8\n",
            "  2  9 10 10  9 10  9  6 10  9 10 10  9  7  9  7  9  9  9  7 10  9  9  4\n",
            "  9  9  9  7  8 10 10  9  9  9 10 10  7  6  9  9  4  9 10 10 10  4  5  9\n",
            "  9  9  6  9  9  9  9  9  7  5  5  9  9  9 10 10  6 10  9  9  3  9  9 10\n",
            " 10 10  9  9  9 10  9 10  9 10  5  9  4  9  8 10 10 10  9  7  5 10  7  7\n",
            "  9  9  8 10  9  9  9  9 10  7  9  4  9 10 10 10 10  9 10 10  8 10  9  7\n",
            " 10  9  9  9 10  9  9  9  9 10  9  7 10 10 10 10 10  9 10  9  8  9 10  7\n",
            "  6  9  9  9  9  9  9  9  9  6 10 10  9 10  3  9  9 10 10 10 10 10  9  8\n",
            "  9  9 10  9  9 10  9  9  9  7  9  7  9  9  9 10 10 10  6  9 10  9  9  9\n",
            "  9  9  9  9 10  7 10 10  9  7  9  9  9  7 10 10  9 10  9  9  9  9  9  9\n",
            "  7  9  7 10  9 10  6  7 10 10  3  9  9  9  5  9 10 10 10  9 10 10  9  4\n",
            "  5  9  9  9 10  9 10  9 10  6 10  9  9  9 10 10 10  3 10  9  9  9 10  2\n",
            "  9 10  1  9  7  9  9  9  9  9  9 10 10 10 10  9  4  9 10  6 10  6 10  9\n",
            "  6  9  9 10  9  9  9  9 10 10  9  9  9  9  9  9  9  9  9 10  9  9  9  9\n",
            " 10  9]\n"
          ]
        }
      ]
    },
    {
      "cell_type": "markdown",
      "source": [
        ""
      ],
      "metadata": {
        "id": "_t6wfLlonKPC"
      }
    },
    {
      "cell_type": "code",
      "source": [
        "Income=da[:,7]\n",
        "print(Income)\n",
        "I1=(Income==Income.min())\n",
        "Income1=Income[I1]\n",
        "print(\"mean of low income:\",Income1.mean())\n",
        "I2=(Income==Income.max())\n",
        "Income2=Income[I2]\n",
        "print(\"mean of high income:\",Income2.mean())\n"
      ],
      "metadata": {
        "colab": {
          "base_uri": "https://localhost:8080/"
        },
        "id": "j7RQD5SLow6z",
        "outputId": "52136e57-b5fc-437c-b01c-8ffad2968083"
      },
      "execution_count": null,
      "outputs": [
        {
          "output_type": "stream",
          "name": "stdout",
          "text": [
            "[0 0 0 ... 0 1 0]\n",
            "mean of low income: 0.0\n",
            "mean of high income: 1.0\n"
          ]
        }
      ]
    },
    {
      "cell_type": "markdown",
      "source": [
        ""
      ],
      "metadata": {
        "id": "-tPLaE36owtC"
      }
    },
    {
      "cell_type": "code",
      "source": [
        "pd.DataFrame(da)"
      ],
      "metadata": {
        "id": "EPonLjC9oZmY",
        "colab": {
          "base_uri": "https://localhost:8080/",
          "height": 423
        },
        "outputId": "4d45fbfa-6752-432b-851a-e76b6dc57c5f"
      },
      "execution_count": null,
      "outputs": [
        {
          "output_type": "execute_result",
          "data": {
            "text/plain": [
              "       0   1  2  3      4  5   6  7\n",
              "0     39  13  4  1   2174  0  40  0\n",
              "1     50  13  4  1      0  0  13  0\n",
              "2     38   9  4  1      0  0  40  0\n",
              "3     53   7  2  1      0  0  40  0\n",
              "4     28  13  2  0      0  0  40  0\n",
              "...   ..  .. .. ..    ... ..  .. ..\n",
              "996   45  14  4  1      0  0  45  0\n",
              "997   48  13  4  1      0  0  58  1\n",
              "998   40  10  4  1   2580  0  40  0\n",
              "999   39  13  4  1  15024  0  50  1\n",
              "1000  50   9  4  1      0  0  40  0\n",
              "\n",
              "[1001 rows x 8 columns]"
            ],
            "text/html": [
              "\n",
              "  <div id=\"df-bd88c98f-b4e8-4858-9d5e-4a66e027bbb7\">\n",
              "    <div class=\"colab-df-container\">\n",
              "      <div>\n",
              "<style scoped>\n",
              "    .dataframe tbody tr th:only-of-type {\n",
              "        vertical-align: middle;\n",
              "    }\n",
              "\n",
              "    .dataframe tbody tr th {\n",
              "        vertical-align: top;\n",
              "    }\n",
              "\n",
              "    .dataframe thead th {\n",
              "        text-align: right;\n",
              "    }\n",
              "</style>\n",
              "<table border=\"1\" class=\"dataframe\">\n",
              "  <thead>\n",
              "    <tr style=\"text-align: right;\">\n",
              "      <th></th>\n",
              "      <th>0</th>\n",
              "      <th>1</th>\n",
              "      <th>2</th>\n",
              "      <th>3</th>\n",
              "      <th>4</th>\n",
              "      <th>5</th>\n",
              "      <th>6</th>\n",
              "      <th>7</th>\n",
              "    </tr>\n",
              "  </thead>\n",
              "  <tbody>\n",
              "    <tr>\n",
              "      <th>0</th>\n",
              "      <td>39</td>\n",
              "      <td>13</td>\n",
              "      <td>4</td>\n",
              "      <td>1</td>\n",
              "      <td>2174</td>\n",
              "      <td>0</td>\n",
              "      <td>40</td>\n",
              "      <td>0</td>\n",
              "    </tr>\n",
              "    <tr>\n",
              "      <th>1</th>\n",
              "      <td>50</td>\n",
              "      <td>13</td>\n",
              "      <td>4</td>\n",
              "      <td>1</td>\n",
              "      <td>0</td>\n",
              "      <td>0</td>\n",
              "      <td>13</td>\n",
              "      <td>0</td>\n",
              "    </tr>\n",
              "    <tr>\n",
              "      <th>2</th>\n",
              "      <td>38</td>\n",
              "      <td>9</td>\n",
              "      <td>4</td>\n",
              "      <td>1</td>\n",
              "      <td>0</td>\n",
              "      <td>0</td>\n",
              "      <td>40</td>\n",
              "      <td>0</td>\n",
              "    </tr>\n",
              "    <tr>\n",
              "      <th>3</th>\n",
              "      <td>53</td>\n",
              "      <td>7</td>\n",
              "      <td>2</td>\n",
              "      <td>1</td>\n",
              "      <td>0</td>\n",
              "      <td>0</td>\n",
              "      <td>40</td>\n",
              "      <td>0</td>\n",
              "    </tr>\n",
              "    <tr>\n",
              "      <th>4</th>\n",
              "      <td>28</td>\n",
              "      <td>13</td>\n",
              "      <td>2</td>\n",
              "      <td>0</td>\n",
              "      <td>0</td>\n",
              "      <td>0</td>\n",
              "      <td>40</td>\n",
              "      <td>0</td>\n",
              "    </tr>\n",
              "    <tr>\n",
              "      <th>...</th>\n",
              "      <td>...</td>\n",
              "      <td>...</td>\n",
              "      <td>...</td>\n",
              "      <td>...</td>\n",
              "      <td>...</td>\n",
              "      <td>...</td>\n",
              "      <td>...</td>\n",
              "      <td>...</td>\n",
              "    </tr>\n",
              "    <tr>\n",
              "      <th>996</th>\n",
              "      <td>45</td>\n",
              "      <td>14</td>\n",
              "      <td>4</td>\n",
              "      <td>1</td>\n",
              "      <td>0</td>\n",
              "      <td>0</td>\n",
              "      <td>45</td>\n",
              "      <td>0</td>\n",
              "    </tr>\n",
              "    <tr>\n",
              "      <th>997</th>\n",
              "      <td>48</td>\n",
              "      <td>13</td>\n",
              "      <td>4</td>\n",
              "      <td>1</td>\n",
              "      <td>0</td>\n",
              "      <td>0</td>\n",
              "      <td>58</td>\n",
              "      <td>1</td>\n",
              "    </tr>\n",
              "    <tr>\n",
              "      <th>998</th>\n",
              "      <td>40</td>\n",
              "      <td>10</td>\n",
              "      <td>4</td>\n",
              "      <td>1</td>\n",
              "      <td>2580</td>\n",
              "      <td>0</td>\n",
              "      <td>40</td>\n",
              "      <td>0</td>\n",
              "    </tr>\n",
              "    <tr>\n",
              "      <th>999</th>\n",
              "      <td>39</td>\n",
              "      <td>13</td>\n",
              "      <td>4</td>\n",
              "      <td>1</td>\n",
              "      <td>15024</td>\n",
              "      <td>0</td>\n",
              "      <td>50</td>\n",
              "      <td>1</td>\n",
              "    </tr>\n",
              "    <tr>\n",
              "      <th>1000</th>\n",
              "      <td>50</td>\n",
              "      <td>9</td>\n",
              "      <td>4</td>\n",
              "      <td>1</td>\n",
              "      <td>0</td>\n",
              "      <td>0</td>\n",
              "      <td>40</td>\n",
              "      <td>0</td>\n",
              "    </tr>\n",
              "  </tbody>\n",
              "</table>\n",
              "<p>1001 rows × 8 columns</p>\n",
              "</div>\n",
              "      <button class=\"colab-df-convert\" onclick=\"convertToInteractive('df-bd88c98f-b4e8-4858-9d5e-4a66e027bbb7')\"\n",
              "              title=\"Convert this dataframe to an interactive table.\"\n",
              "              style=\"display:none;\">\n",
              "        \n",
              "  <svg xmlns=\"http://www.w3.org/2000/svg\" height=\"24px\"viewBox=\"0 0 24 24\"\n",
              "       width=\"24px\">\n",
              "    <path d=\"M0 0h24v24H0V0z\" fill=\"none\"/>\n",
              "    <path d=\"M18.56 5.44l.94 2.06.94-2.06 2.06-.94-2.06-.94-.94-2.06-.94 2.06-2.06.94zm-11 1L8.5 8.5l.94-2.06 2.06-.94-2.06-.94L8.5 2.5l-.94 2.06-2.06.94zm10 10l.94 2.06.94-2.06 2.06-.94-2.06-.94-.94-2.06-.94 2.06-2.06.94z\"/><path d=\"M17.41 7.96l-1.37-1.37c-.4-.4-.92-.59-1.43-.59-.52 0-1.04.2-1.43.59L10.3 9.45l-7.72 7.72c-.78.78-.78 2.05 0 2.83L4 21.41c.39.39.9.59 1.41.59.51 0 1.02-.2 1.41-.59l7.78-7.78 2.81-2.81c.8-.78.8-2.07 0-2.86zM5.41 20L4 18.59l7.72-7.72 1.47 1.35L5.41 20z\"/>\n",
              "  </svg>\n",
              "      </button>\n",
              "      \n",
              "  <style>\n",
              "    .colab-df-container {\n",
              "      display:flex;\n",
              "      flex-wrap:wrap;\n",
              "      gap: 12px;\n",
              "    }\n",
              "\n",
              "    .colab-df-convert {\n",
              "      background-color: #E8F0FE;\n",
              "      border: none;\n",
              "      border-radius: 50%;\n",
              "      cursor: pointer;\n",
              "      display: none;\n",
              "      fill: #1967D2;\n",
              "      height: 32px;\n",
              "      padding: 0 0 0 0;\n",
              "      width: 32px;\n",
              "    }\n",
              "\n",
              "    .colab-df-convert:hover {\n",
              "      background-color: #E2EBFA;\n",
              "      box-shadow: 0px 1px 2px rgba(60, 64, 67, 0.3), 0px 1px 3px 1px rgba(60, 64, 67, 0.15);\n",
              "      fill: #174EA6;\n",
              "    }\n",
              "\n",
              "    [theme=dark] .colab-df-convert {\n",
              "      background-color: #3B4455;\n",
              "      fill: #D2E3FC;\n",
              "    }\n",
              "\n",
              "    [theme=dark] .colab-df-convert:hover {\n",
              "      background-color: #434B5C;\n",
              "      box-shadow: 0px 1px 3px 1px rgba(0, 0, 0, 0.15);\n",
              "      filter: drop-shadow(0px 1px 2px rgba(0, 0, 0, 0.3));\n",
              "      fill: #FFFFFF;\n",
              "    }\n",
              "  </style>\n",
              "\n",
              "      <script>\n",
              "        const buttonEl =\n",
              "          document.querySelector('#df-bd88c98f-b4e8-4858-9d5e-4a66e027bbb7 button.colab-df-convert');\n",
              "        buttonEl.style.display =\n",
              "          google.colab.kernel.accessAllowed ? 'block' : 'none';\n",
              "\n",
              "        async function convertToInteractive(key) {\n",
              "          const element = document.querySelector('#df-bd88c98f-b4e8-4858-9d5e-4a66e027bbb7');\n",
              "          const dataTable =\n",
              "            await google.colab.kernel.invokeFunction('convertToInteractive',\n",
              "                                                     [key], {});\n",
              "          if (!dataTable) return;\n",
              "\n",
              "          const docLinkHtml = 'Like what you see? Visit the ' +\n",
              "            '<a target=\"_blank\" href=https://colab.research.google.com/notebooks/data_table.ipynb>data table notebook</a>'\n",
              "            + ' to learn more about interactive tables.';\n",
              "          element.innerHTML = '';\n",
              "          dataTable['output_type'] = 'display_data';\n",
              "          await google.colab.output.renderOutput(dataTable, element);\n",
              "          const docLink = document.createElement('div');\n",
              "          docLink.innerHTML = docLinkHtml;\n",
              "          element.appendChild(docLink);\n",
              "        }\n",
              "      </script>\n",
              "    </div>\n",
              "  </div>\n",
              "  "
            ]
          },
          "metadata": {},
          "execution_count": 12
        }
      ]
    },
    {
      "cell_type": "code",
      "source": [
        "a=np.array([[1,2],[2,1]])\n",
        "b=np.array([[5,6],[6,0]])\n",
        "np.concatenate((a,b),axis=1)"
      ],
      "metadata": {
        "id": "K0STe0OskVvK",
        "colab": {
          "base_uri": "https://localhost:8080/"
        },
        "outputId": "4ca2e783-5080-44cb-9d20-3d1f02429c77"
      },
      "execution_count": null,
      "outputs": [
        {
          "output_type": "execute_result",
          "data": {
            "text/plain": [
              "array([[1, 2, 5, 6],\n",
              "       [2, 1, 6, 0]])"
            ]
          },
          "metadata": {},
          "execution_count": 85
        }
      ]
    },
    {
      "cell_type": "code",
      "source": [
        ""
      ],
      "metadata": {
        "id": "t35H0QHYI86t"
      },
      "execution_count": null,
      "outputs": []
    },
    {
      "cell_type": "code",
      "source": [
        ""
      ],
      "metadata": {
        "id": "1hI1PqToJQVN"
      },
      "execution_count": null,
      "outputs": []
    }
  ]
}